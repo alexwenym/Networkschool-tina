{
 "cells": [
  {
   "cell_type": "markdown",
   "metadata": {},
   "source": [
    "# Model-Runner Notebook for xrb Project"
   ]
  },
  {
   "cell_type": "markdown",
   "metadata": {},
   "source": [
    "## Overview\n",
    "This notebook helps you execute the model code. This should be done after the Rate Changer made any rate changes (if those are desired) but before the Result Explorer analyzes the results. You must execute the model code after a rate change to be able to analyze the new results. \n",
    "\n",
    "You need to go from cell to cell and execute the cell using the \"Play\" button (which executes the cell and advances to the next cell). Some cells will create a lot of output - you need carefully scroll past the output to the next cell. Some cells will take some time to run - you need to wait until its done (the cell number turns back from `[*]` to a number). \n",
    "\n",
    "## Instructions - Step 1: Run the model\n",
    "The following cell executes the model program called `./ppn.exe`. It takes temperature and density as functions of time from an xrb model `trajectory.input` file. So far, you can use one of the two available xrb model trajectories, either `trajectory.input.xrb_mesa` that was extracted from an xrb `MESA` model, or \n",
    "`trajectory.input.xrb_example` from the NuGrid example `ppn_XRB_K04`. Choose one of these files and copy it to `trajectory.input` before running `./ppn.exe`.\n",
    "\n",
    "Once you start executing the cell with the \"Play\" button it will run for a few minutes and print some information along the way. The cell number on the left of the cell will turn into `[*]`. Be patient and wait until its done (`[*]` turns back to a number). It will produce a large number of cycles or time steps.\n",
    "\n",
    "There may already be output from when this was run previously. Make sure you actually run the cell again (\"Play button\") - the output will then be recreated by the new calculation. Otherwise you do not get new results !!!\n",
    "\n",
    "Also make sure it says \"Bash\" in the upper right corner of the tab - if not go there and select it. \n",
    "\n",
    "## Additional information about what this does\n",
    "The model follows the nuclear reactions step by step as they create new isotopes over time. For each time step it will print a line (this information is mostly interesting for developers and experts) and create an output file with how much of each isotope has been created so far (isotope abundances). The output files are created in the same directory (= folder) where the code runs. The output file names contain numbers - the output file with the highest number will contain the isotope abundances at the end of the calculation. This is the data file that will be analyzed later. "
   ]
  },
  {
   "cell_type": "code",
   "execution_count": 3,
   "metadata": {},
   "outputs": [
    {
     "name": "stdout",
     "output_type": "stream",
     "text": [
      " ppn setting up network\n",
      " rnetw2008: false species=L   1\n",
      " rnetw2008: false species=G   1\n",
      " rnetw2008: false species=G  63\n",
      " rnetw2008: false species=LI  6\n",
      " rnetw2008: false species=BE  9\n",
      " rnetw2008: false species=B  10\n",
      "At line 4800 of file ppn_physics.F (unit = 1)\n",
      "Fortran runtime error: Cannot open file '../NPDATA/fit_frdm.asc': No such file or directory\n",
      "\n",
      "Error termination. Backtrace:\n",
      "#0  0x7f3fb74ab2ed in ???\n",
      "#1  0x7f3fb74abed5 in ???\n",
      "#2  0x7f3fb74ac69d in ???\n",
      "#3  0x7f3fb761eecd in ???\n",
      "#4  0x7f3fb761f214 in ???\n",
      "#5  0x4463b7 in ???\n",
      "#6  0x466def in ???\n",
      "#7  0x409eff in ???\n",
      "#8  0x401a1c in ???\n",
      "#9  0x7f3fb68cab96 in ???\n",
      "#10  0x401a59 in ???\n",
      "#11  0xffffffffffffffff in ???\n"
     ]
    },
    {
     "ename": "",
     "evalue": "2",
     "output_type": "error",
     "traceback": []
    }
   ],
   "source": [
    "./ppn.exe"
   ]
  },
  {
   "cell_type": "markdown",
   "metadata": {},
   "source": [
    "## Intructions Step 2: Look at output files created\n",
    "The following cell executes the `ls` command (which stands for _list_) and lists all the files in your current directory. \n",
    "\n",
    "You can see a number of new files whose name begins with `iso_massf`. These have been created by the model. You can also see them in the file browser on the left. If you do not see these, try to rerun this notebook from the beginning. "
   ]
  },
  {
   "cell_type": "code",
   "execution_count": null,
   "metadata": {},
   "outputs": [],
   "source": [
    "ls"
   ]
  },
  {
   "cell_type": "markdown",
   "metadata": {},
   "source": [
    "## Instructions Step 3: Create a new folder with the results\n",
    "The following cell executes a program that moves the output files into the folder specified in the second word, in the example the folder is called `Run1`.\n",
    "\n",
    "IMPORTANT: You must decide on a unique directory (folder) name for the calculation you just ran, and edit the follwing cell accordingly before executing it. Existing examples are nova cases case_1 to case_8, but you can choose any name you like. The existing directories (folders) are listed at the top of the file browser on the left. If you choose an existing name the new results will overwrite what is in the directory (folder). Any no longer necessary existing folders with results can be deleted, e.g. by the command `rm -rf case_6`.\n",
    "\n",
    "You will be responsible for keeping the results organized in different folders and explaining to the others in your group where to find what. The folder `master-result` contains the standard result without any changed rates. "
   ]
  },
  {
   "cell_type": "code",
   "execution_count": 6,
   "metadata": {},
   "outputs": [],
   "source": [
    "./save_run.sh accretion_disk_1"
   ]
  },
  {
   "cell_type": "markdown",
   "metadata": {},
   "source": [
    "Again, use the `ls` command to see what happened. There is now a new folder and the output files have disappeared because they have been moved into the new folder. \n",
    "\n",
    "The following cell simply executes the ls command and shows the contents of the current directory"
   ]
  },
  {
   "cell_type": "code",
   "execution_count": 4,
   "metadata": {},
   "outputs": [
    {
     "name": "stdout",
     "output_type": "stream",
     "text": [
      "Makefile                 initial_abundance.dat     ppn_physics.input\n",
      "Model-runner.ipynb       isotopedatabase.txt       ppn_solver.input\n",
      "README                   isotopedatabase_1107.txt  run_nova.sh\n",
      "README.md                isotopedatabase_all.txt   save_data.sh\n",
      "Rate-Changer.ipynb       log_stuff.txt             save_run.sh\n",
      "Readme.md                networksetup.txt          selem.dat\n",
      "Result-Explorer.ipynb    new_mult_factors.txt      template_networksetup.txt\n",
      "change_mult_factors.exe  new_networksetup.txt      trajectory.input\n",
      "change_mult_factors.f    p20.dat                   trajectory.input.xrb_example\n",
      "clean_output             ppn.exe                   trajectory.input.xrb_mesa\n",
      "copy_case.sh             ppn.exe.bak               xrb_example\n",
      "iniab2.0E-02GN93.ppn     ppn_frame.input           xrb_mesa\n"
     ]
    }
   ],
   "source": [
    "ls"
   ]
  },
  {
   "cell_type": "markdown",
   "metadata": {},
   "source": [
    "The following cell executes the `ls` command again but specifies an existing subfolder. Edit the name to match the directory (folder) you just created. It will list the files contained in your new directory (folder). "
   ]
  },
  {
   "cell_type": "code",
   "execution_count": null,
   "metadata": {},
   "outputs": [],
   "source": [
    "ls xrb_example"
   ]
  },
  {
   "cell_type": "markdown",
   "metadata": {},
   "source": [
    "## Plot and explore results\n",
    "Move on to the `Result-Explorer.ipynb` notebook to explore and plot results. \n",
    "\n",
    "## Fun additional things not required\n",
    "\n",
    "If you like you can use the file browser on the left, go into the new folder and double click on one of the output files to see what is in there. You will see a list of isotopes and a number that indicates the abundance of the isotope created at the time corresponding to the output file. At the top of the file you can also see the time (agej is time in years) and other information such as the temperature in the star in Billions of degree (t9) and the density in grams per cubic centimeter (rho). "
   ]
  }
 ],
 "metadata": {
  "kernelspec": {
   "display_name": "Bash",
   "language": "bash",
   "name": "bash"
  },
  "language_info": {
   "codemirror_mode": "shell",
   "file_extension": ".sh",
   "mimetype": "text/x-sh",
   "name": "bash"
  }
 },
 "nbformat": 4,
 "nbformat_minor": 4
}
