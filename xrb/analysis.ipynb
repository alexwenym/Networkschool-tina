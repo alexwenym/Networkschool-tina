{
 "cells": [
  {
   "cell_type": "code",
   "execution_count": 9,
   "metadata": {},
   "outputs": [
    {
     "name": "stdout",
     "output_type": "stream",
     "text": [
      "Populating the interactive namespace from numpy and matplotlib\n"
     ]
    }
   ],
   "source": [
    "%pylab ipympl \n",
    "from nugridpy import ppn\n",
    "from nugridpy import utils\n",
    "from nugridpy import utils as ut\n",
    "from nugridpy import ascii_table as at\n",
    "import p_nuclei_helpers as helpers\n",
    "import numpy as np\n",
    "import pandas as pd\n",
    "\n",
    "#### section to include at the beginnning of your notebook \n",
    "#### that will suppress output of unnecessary information\n",
    "import os\n",
    "from contextlib import contextmanager\n",
    "@contextmanager\n",
    "def redirect_stdout(new_target):\n",
    "    old_target, sys.stdout = sys.stdout, new_target\n",
    "    try:\n",
    "        yield new_target\n",
    "    finally:\n",
    "        sys.stdout = old_target\n",
    "def get_devnull():\n",
    "    #return open(os.devnull, \"w\")\n",
    "    return open('log_stuff.txt', \"w\") #where all the stuff goes you don't want to see\n",
    "####"
   ]
  },
  {
   "cell_type": "markdown",
   "metadata": {},
   "source": [
    "## Basic extraction of p-nuclei data from user dir"
   ]
  },
  {
   "cell_type": "code",
   "execution_count": 2,
   "metadata": {},
   "outputs": [
    {
     "name": "stdout",
     "output_type": "stream",
     "text": [
      "375 cycle numbers found in accretion_disk_1\n",
      "Ranging from 00000 to 00374\n",
      "Range may not be continuous. To display all available cycles, print <abu_vector_instance>.files\n",
      "number of species:  5214\n",
      "number of cols:  5220\n",
      "There are 374 time steps found.\n"
     ]
    }
   ],
   "source": [
    "case_directory = 'accretion_disk_1' # 'xrb_mesa' \n",
    "pa1 = ppn.abu_vector(case_directory)\n",
    "px1 = ppn.xtime(case_directory)"
   ]
  },
  {
   "cell_type": "code",
   "execution_count": 3,
   "metadata": {},
   "outputs": [],
   "source": [
    "abu = pa1.get('ABUNDANCE_MF',374)\n",
    "iso = pa1.get('ISOTP',374)"
   ]
  },
  {
   "cell_type": "code",
   "execution_count": 4,
   "metadata": {},
   "outputs": [],
   "source": [
    "p_nucleides, p_abundances = helpers.get_p_abundances(iso, abu)"
   ]
  },
  {
   "cell_type": "code",
   "execution_count": null,
   "metadata": {},
   "outputs": [],
   "source": [
    "fig = figure()\n",
    "plot(p_abundances, marker='o', linestyle='')\n",
    "xticks(range(len(p_nucleides)), p_nucleides, size='small', rotation=70)\n",
    "grid()\n",
    "yscale('log')\n",
    "ylabel('mass abundance')"
   ]
  },
  {
   "cell_type": "markdown",
   "metadata": {},
   "source": [
    "## Ideas for Monte Carlo"
   ]
  },
  {
   "cell_type": "code",
   "execution_count": 115,
   "metadata": {},
   "outputs": [],
   "source": [
    "def generate_rate_inrange():\n",
    "    generatorfile = 'new_mult_factors_generator.txt'\n",
    "    generator_array = pd.read_csv(generatorfile,  delimiter='\\n', squeeze=True, header=None)\n",
    "    reactions = generator_array.str[:13]\n",
    "    rate_ranges = generator_array.str[13:]\n",
    "    rates = []; \n",
    "    for i in rate_ranges: \n",
    "        i = i.split()\n",
    "        i = [float(j) for j in i]\n",
    "        value = np.random.uniform(low=i[0],high=i[1])\n",
    "        rates = np.append(rates, np.round(value,3))\n",
    "    rates = [str(j) for j in rates]\n",
    "    with open('new_mult_factors.txt', 'w') as the_file:\n",
    "        for i in range(len(reactions)):\n",
    "            the_file.write(reactions[i]+rates[i]+'\\n')"
   ]
  },
  {
   "cell_type": "code",
   "execution_count": 116,
   "metadata": {},
   "outputs": [],
   "source": [
    "generate_rate_inrange()"
   ]
  },
  {
   "cell_type": "code",
   "execution_count": null,
   "metadata": {},
   "outputs": [],
   "source": []
  }
 ],
 "metadata": {
  "kernelspec": {
   "display_name": "Python 3",
   "language": "python",
   "name": "python3"
  },
  "language_info": {
   "codemirror_mode": {
    "name": "ipython",
    "version": 3
   },
   "file_extension": ".py",
   "mimetype": "text/x-python",
   "name": "python",
   "nbconvert_exporter": "python",
   "pygments_lexer": "ipython3",
   "version": "3.6.8"
  }
 },
 "nbformat": 4,
 "nbformat_minor": 4
}
