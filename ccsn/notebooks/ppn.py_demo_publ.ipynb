{
 "cells": [
  {
   "cell_type": "markdown",
   "metadata": {},
   "source": [
    "\n",
    "# CCSN and gamma-process\n",
    "\n",
    "## Introduction\n",
    "This run is to test the production during gamma-process in CCSNe. Here we selected hot conditions, where the peak of Se74 is obtained, one of the lightest p-nuclei. \n",
    "\n",
    "## Trajectory\n",
    "\n",
    "Extracted from M=15Msun, Z=0.01 of Ritter et al. 2018 models. Mass coordinate: 1.84Msun. \n",
    "\n",
    "## Science case\n",
    "\n",
    "Production of gamma-process in CCSNe. Notice that this is not representative of all the gamma process. The trajectory was selected looking at the production peak of the p-nuclei Se74. While also some other p-nuclei are still abundant, like Kr78 and Sr84, heavier p-nuclei are not made here. They need less extreme conditions. \n",
    "\n"
   ]
  },
  {
   "cell_type": "markdown",
   "metadata": {},
   "source": [
    "## Comparison of master and modular2 runs\n",
    "\n",
    "### Runs\n",
    "\n",
    "Run | Comment | Git  master | Git  modular2 |run date\n",
    "-----|--------|----------|------|---\n",
    "ppn_default_gammaprocess | the first run, everything default, extended network | 3e3f2c6 | e070ed8 | 11 September, 2021\n",
    "ppn_01_gammaprocess | done for modular2, integration_method=0 | 3e3f2c6 | e070ed8 | 11 September, 2021\n",
    "ppn_02_gammaprocess | done for modular2, integration_method=0, detailed_balance=.False. | 3e3f2c6 | e070ed8 | 11 September, 2021\n",
    "ppn_03_gammaprocess | done for modular2, as ppn_02 and screen_option=1 | 3e3f2c6 | e070ed8 | 12 September, 2021\n",
    "\n",
    "### Where\n",
    "`/user/scratch14_wendi3/NuGrid/OZoNE21/notebooks/ppn_gammaprocess_ccsn_se74`\n",
    "\n",
    "### Differences between master and modular2\n",
    "* Initial differences in the proton and alpha-particle production from the reactions. Relevant differences in the gamma-process nuclei.\n",
    "* integration method downgraded for modular2, reduces differences significantly for protons and alphas. Differences in gamma-process final production still present\n",
    "* detailed_balance removed from modular2. Some differences still present, but extremely reduced. Notice that this trajectory does not need subtimesteps, so improved modular2 scheme should not play a role. \n",
    "* No impact of screening. I think that a reason could be that modular2 has a new interpolation for kadonis rates. Could it be it? It is difficult to test this. Overall is good. \n",
    "* <font color='green'>DONE</font>"
   ]
  },
  {
   "cell_type": "code",
   "execution_count": 1,
   "metadata": {},
   "outputs": [
    {
     "name": "stdout",
     "output_type": "stream",
     "text": [
      "Populating the interactive namespace from numpy and matplotlib\n"
     ]
    }
   ],
   "source": [
    "# %pylab nbagg\n",
    "%pylab ipympl\n",
    "from nugridpy import ppn\n",
    "from nugridpy import utils\n",
    "import matplotlib.pyplot as plt"
   ]
  },
  {
   "cell_type": "code",
   "execution_count": 2,
   "metadata": {},
   "outputs": [],
   "source": [
    "#%pylab nbagg\n",
    "#from nugridpy import ppn\n",
    "from nugridpy import utils as ut"
   ]
  },
  {
   "cell_type": "code",
   "execution_count": 3,
   "metadata": {
    "collapsed": false,
    "jupyter": {
     "outputs_hidden": false
    }
   },
   "outputs": [
    {
     "name": "stdout",
     "output_type": "stream",
     "text": [
      "226 cycle numbers found in /user/scratch14_wendi3/dpa/nuppn_xrb/frames/ppn/run_ppn_ccsn/gp_process_inse0/\n",
      "Ranging from 00000 to 00225\n",
      "Range may not be continuous. To display all available cycles, print <abu_vector_instance>.files\n",
      "number of species:  5215\n",
      "number of cols:  5221\n",
      "There are 225 time steps found.\n"
     ]
    }
   ],
   "source": [
    "# loading modular2 \n",
    "#dir_mod2='/user/scratch14_wendi3/NuGrid/OZoNE21/ppn-cases/modular2/ppn_gammaprocess_ccsn_se74/ppn_default_gammaprocess/'\n",
    "#dir_mod2='/user/scratch14_wendi3/NuGrid/OZoNE21/ppn-cases/modular2/ppn_gammaprocess_ccsn_se74/ppn_01_gammaprocess/'\n",
    "#dir_mod2='/user/scratch14_wendi3/NuGrid/OZoNE21/ppn-cases/modular2/ppn_gammaprocess_ccsn_se74/ppn_02_gammaprocess/'\n",
    "#dir_mod2='/user/scratch14_wendi3/NuGrid/OZoNE21/ppn-cases/modular2/ppn_gammaprocess_ccsn_se74/ppn_03_gammaprocess/'\n",
    "\n",
    "dir_mod2='/user/scratch14_wendi3/dpa/nuppn_xrb/frames/ppn/run_ppn_ccsn/gp_process_inse0/'\n",
    "pa=ppn.abu_vector(dir_mod2); px = ppn.xtime(dir_mod2)\n",
    "n_cyc = len(pa.files)-1"
   ]
  },
  {
   "cell_type": "code",
   "execution_count": 4,
   "metadata": {},
   "outputs": [
    {
     "name": "stdout",
     "output_type": "stream",
     "text": [
      "226 cycle numbers found in /user/scratch14_wendi3/dpa/nuppn_xrb/frames/ppn/run_ppn_ccsn/gp_process_inse1/\n",
      "Ranging from 00000 to 00225\n",
      "Range may not be continuous. To display all available cycles, print <abu_vector_instance>.files\n",
      "number of species:  5215\n",
      "number of cols:  5221\n",
      "There are 225 time steps found.\n"
     ]
    }
   ],
   "source": [
    "# loading master\n",
    "#m_dir = '/user/scratch14_wendi3/NuGrid/OZoNE21/ppn-cases/master/ppn_gammaprocess_ccsn_se74/ppn_default_gammaprocess/'\n",
    "m_dir='/user/scratch14_wendi3/dpa/nuppn_xrb/frames/ppn/run_ppn_ccsn/gp_process_inse1/'\n",
    "pam=ppn.abu_vector(m_dir); pxm = ppn.xtime(m_dir)"
   ]
  },
  {
   "cell_type": "code",
   "execution_count": 7,
   "metadata": {
    "collapsed": false,
    "jupyter": {
     "outputs_hidden": false
    }
   },
   "outputs": [
    {
     "data": {
      "application/vnd.jupyter.widget-view+json": {
       "model_id": "9024b1b8d1cc4b96ae7834a6c738e433",
       "version_major": 2,
       "version_minor": 0
      },
      "text/plain": [
       "Canvas(toolbar=Toolbar(toolitems=[('Home', 'Reset original view', 'home', 'home'), ('Back', 'Back to previous …"
      ]
     },
     "metadata": {},
     "output_type": "display_data"
    },
    {
     "name": "stdout",
     "output_type": "stream",
     "text": [
      "This method adds the following variables to the instance:\n",
      "a_iso_to_plot      mass number of plotted range of species\n",
      "isotope_to_plot    corresponding list of isotopes\n",
      "z_iso_to_plot      corresponding charge numbers\n",
      "el_iso_to_plot     corresponding element names\n",
      "abunds             corresponding abundances\n",
      "isom               isomers and their abundance\n",
      "Calling get method in cycle mode, adding a_iso_to_plot, z.. el.. isotope.. isotope... to instance\n",
      "Calling get method in cycle mode, adding a_iso_to_plot, z.. el.. isotope.. isotope... to instance\n",
      "Using the following conditions:\n",
      "\tAtomic mass_range: 1 209\n",
      "\tcycle:            225\n",
      "\tplot only stable: True\n",
      "\tplot decayed:     True\n",
      "['-', '--', '-.', ':', '-']\n"
     ]
    },
    {
     "data": {
      "text/plain": [
       "(5, 80)"
      ]
     },
     "execution_count": 7,
     "metadata": {},
     "output_type": "execute_result"
    }
   ],
   "source": [
    "ifig=1; plt.close(ifig); plt.figure(ifig)\n",
    "ref_I_want = 0\n",
    "pa.iso_abund(n_cyc,decayed=True,stable=True,elemaburtn=True,ref=ref_I_want)\n",
    "plt.xlim(5,80)#; plt.ylim(-8,0.5)"
   ]
  },
  {
   "cell_type": "code",
   "execution_count": 8,
   "metadata": {},
   "outputs": [
    {
     "data": {
      "application/vnd.jupyter.widget-view+json": {
       "model_id": "aff50b4db59a49c38924d6ea24d24cf1",
       "version_major": 2,
       "version_minor": 0
      },
      "text/plain": [
       "Canvas(toolbar=Toolbar(toolitems=[('Home', 'Reset original view', 'home', 'home'), ('Back', 'Back to previous …"
      ]
     },
     "metadata": {},
     "output_type": "display_data"
    }
   ],
   "source": [
    "specs = ['PROT','HE  4','C  12','O  16','SI 28','SE 74','KR 78','SR 84'] # isotopes to plot\n",
    "y_lim = (-6,0.2) \n",
    "legend_loc = 4 \n",
    "y_axis_offset = 0 \n",
    "\n",
    "\n",
    "# make the plot\n",
    "\n",
    "symbs=utils.symbol_list('lines1')\n",
    "abus=[]\n",
    "for spec in specs:\n",
    "    abu=pxm.get(spec)\n",
    "    abus.append(abu)\n",
    "yr = 60.*60.*24.*365.    \n",
    "time=pxm.get('time')*yr\n",
    "\n",
    "close(10);figure(10)\n",
    "for i in range(len(specs)):\n",
    "    plt.semilogx(time,log10(abus[i] + y_axis_offset),symbs[i],lw=0.5,label=specs[i])\n",
    "\n",
    "plt.legend(loc='lower right',  ncol=4, fancybox=True)\n",
    "\n",
    "# and now for master\n",
    "abus = []\n",
    "for spec in specs:\n",
    "    abu=px.get(spec)\n",
    "    abus.append(abu)\n",
    "for i in range(len(specs)):\n",
    "    plt.semilogx(time,log10(abus[i] + y_axis_offset),symbs[i],lw=2)\n",
    "\n",
    "\n",
    "\n",
    "plt.xlabel('$\\mathrm{time\\ (sec)}$',fontsize=16); plt.ylabel('$\\log_{10}(X_i)$',fontsize=16)\n",
    "plt.ylim(-10,0.5); plt.title('master (thin lines) vs modular2 (thick lines)')\n",
    "\n",
    "plt.tight_layout()"
   ]
  },
  {
   "cell_type": "code",
   "execution_count": null,
   "metadata": {},
   "outputs": [],
   "source": [
    "# different number of stable isotopes... to be debugged\n",
    "#ifig=3;close(ifig);figure(ifig)\n",
    "#ratio  = pa.abunds/pam.abunds\n",
    "#plt.semilogy(pa.a_iso_to_plot,ratio,'+m')\n",
    "#plt.axhline(y=1)\n",
    "#plt.ylim(0.1,10)"
   ]
  },
  {
   "cell_type": "code",
   "execution_count": null,
   "metadata": {},
   "outputs": [],
   "source": [
    "#pa.abu_chart?"
   ]
  },
  {
   "cell_type": "code",
   "execution_count": 9,
   "metadata": {
    "collapsed": false,
    "jupyter": {
     "outputs_hidden": false
    }
   },
   "outputs": [
    {
     "data": {
      "application/vnd.jupyter.widget-view+json": {
       "model_id": "2e1d2f3f11234bb4b5f1f21e799d774f",
       "version_major": 2,
       "version_minor": 0
      },
      "text/plain": [
       "Canvas(toolbar=Toolbar(toolitems=[('Home', 'Reset original view', 'home', 'home'), ('Back', 'Back to previous …"
      ]
     },
     "metadata": {},
     "output_type": "display_data"
    }
   ],
   "source": [
    "# issue with using mass_range. Not functional\n",
    "# to check better\n",
    "ifig=2;close(ifig);figure(ifig)\n",
    "pa.abu_chart(n_cyc,ifig=ifig,plotaxis=[10,30,10,30])"
   ]
  },
  {
   "cell_type": "code",
   "execution_count": null,
   "metadata": {},
   "outputs": [],
   "source": [
    "# this requires flux files available to be tested.\n",
    "#pa.abu_flux_chart(n_cyc,plotaxis=[15,35,15,25],profile='neutron',prange=4)"
   ]
  },
  {
   "cell_type": "code",
   "execution_count": 12,
   "metadata": {},
   "outputs": [
    {
     "data": {
      "application/vnd.jupyter.widget-view+json": {
       "model_id": "5c2431acd2b243948c21601ad6bac541",
       "version_major": 2,
       "version_minor": 0
      },
      "text/plain": [
       "Canvas(toolbar=Toolbar(toolitems=[('Home', 'Reset original view', 'home', 'home'), ('Back', 'Back to previous …"
      ]
     },
     "metadata": {},
     "output_type": "display_data"
    },
    {
     "name": "stdout",
     "output_type": "stream",
     "text": [
      "Calling get method in cycle mode, adding a_iso_to_plot, z.. el.. isotope.. isotope... to instance\n",
      "Calling get method in cycle mode, adding a_iso_to_plot, z.. el.. isotope.. isotope... to instance\n"
     ]
    },
    {
     "data": {
      "text/plain": [
       "0.0"
      ]
     },
     "execution_count": 12,
     "metadata": {},
     "output_type": "execute_result"
    }
   ],
   "source": [
    "close(157);figure(157)\n",
    "z_ran = [5,25]; y_lim=[-6,3.7]\n",
    "plot_cyc = 200 # n_cyc\n",
    "pa.elemental_abund(plot_cyc,zrange=z_ran, ref=0, mark='o',linestyle='dotted',\\\n",
    "                   title_items=['densn','mod'],ylim=y_lim)"
   ]
  },
  {
   "cell_type": "code",
   "execution_count": 13,
   "metadata": {},
   "outputs": [
    {
     "data": {
      "application/vnd.jupyter.widget-view+json": {
       "model_id": "42d1af341a3d41b3a0bf2304a130b008",
       "version_major": 2,
       "version_minor": 0
      },
      "text/plain": [
       "Canvas(toolbar=Toolbar(toolitems=[('Home', 'Reset original view', 'home', 'home'), ('Back', 'Back to previous …"
      ]
     },
     "metadata": {},
     "output_type": "display_data"
    },
    {
     "name": "stdout",
     "output_type": "stream",
     "text": [
      "Calling get method in cycle mode, adding a_iso_to_plot, z.. el.. isotope.. isotope... to instance\n",
      "Calling get method in cycle mode, adding a_iso_to_plot, z.. el.. isotope.. isotope... to instance\n"
     ]
    }
   ],
   "source": [
    "# trying to make production factor plot with elements. Does not work?\n",
    "\n",
    "close(158);figure(158)\n",
    "z_ran = [5,25]; y_lim=[-1,4.7]\n",
    "solar_file = '/user/scratch14_wendi3/NuGrid/CODE/modular2/NuPPN/frames/mppnp/USEEPP/iniab2.0E-02GN93.ppn'\n",
    "pa.elemental_abund(n_cyc,zrange=z_ran, ylim = y_lim, ref=1,solar_filename=solar_file, mark='o',linestyle='dotted',\\\n",
    "                   title_items=['mod'])\n",
    "\n",
    "plt.grid(None)"
   ]
  },
  {
   "cell_type": "code",
   "execution_count": 14,
   "metadata": {},
   "outputs": [
    {
     "data": {
      "application/vnd.jupyter.widget-view+json": {
       "model_id": "de7a61cfe7eb44238e3bfeba62505751",
       "version_major": 2,
       "version_minor": 0
      },
      "text/plain": [
       "Canvas(toolbar=Toolbar(toolitems=[('Home', 'Reset original view', 'home', 'home'), ('Back', 'Back to previous …"
      ]
     },
     "metadata": {},
     "output_type": "display_data"
    }
   ],
   "source": [
    "#ifig = 11; plt.close(ifig)#; plt.figure(ifig)\n",
    "fig,ax = plt.subplots() #plt.figure(ifig)\n",
    "\n",
    "x = time; y = px.get('t9')\n",
    "ax.semilogx(x,y,'k-',label='temperature')\n",
    "\n",
    "ax.legend(loc='lower left')\n",
    "ax.set_ylabel('Temperature (GK)',fontsize=15); ax.set_xlabel('Time (sec)',fontsize=15)\n",
    "\n",
    "# twin object for two different y-axis on the sample plot\n",
    "ax2=ax.twinx()\n",
    "\n",
    "x = time; y = px.get('rho')\n",
    "ax2.semilogx(x,y,'b-+',label='density',markevery=10)\n",
    "ax2.set_ylabel('Density (g cm$^{-3}$)',fontsize=15)\n",
    "ax2.legend(loc='upper right')\n",
    "\n",
    "plt.gcf().subplots_adjust(right=0.85)"
   ]
  },
  {
   "cell_type": "code",
   "execution_count": null,
   "metadata": {},
   "outputs": [],
   "source": []
  },
  {
   "cell_type": "code",
   "execution_count": null,
   "metadata": {},
   "outputs": [],
   "source": []
  }
 ],
 "metadata": {
  "kernelspec": {
   "display_name": "Python 2",
   "language": "python",
   "name": "python2"
  },
  "language_info": {
   "codemirror_mode": {
    "name": "ipython",
    "version": 3
   },
   "file_extension": ".py",
   "mimetype": "text/x-python",
   "name": "python",
   "nbconvert_exporter": "python",
   "pygments_lexer": "ipython3",
   "version": "3.6.8"
  }
 },
 "nbformat": 4,
 "nbformat_minor": 4
}
